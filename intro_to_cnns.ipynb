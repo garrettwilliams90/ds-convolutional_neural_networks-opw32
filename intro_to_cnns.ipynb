{
 "cells": [
  {
   "cell_type": "markdown",
   "metadata": {},
   "source": [
    "# *OPEN IN GOOGLE COLAB IF I WANT TO RUN*"
   ]
  },
  {
   "cell_type": "markdown",
   "metadata": {
    "id": "x4HI2mpwlrcn"
   },
   "source": [
    "##### Copyright 2019 The TensorFlow Authors."
   ]
  },
  {
   "cell_type": "code",
   "execution_count": null,
   "metadata": {
    "id": "679Lmwt3l1Bk"
   },
   "outputs": [],
   "source": [
    "#@title Licensed under the Apache License, Version 2.0 (the \"License\");\n",
    "# you may not use this file except in compliance with the License.\n",
    "# You may obtain a copy of the License at\n",
    "#\n",
    "# https://www.apache.org/licenses/LICENSE-2.0\n",
    "#\n",
    "# Unless required by applicable law or agreed to in writing, software\n",
    "# distributed under the License is distributed on an \"AS IS\" BASIS,\n",
    "# WITHOUT WARRANTIES OR CONDITIONS OF ANY KIND, either express or implied.\n",
    "# See the License for the specific language governing permissions and\n",
    "# limitations under the License."
   ]
  },
  {
   "cell_type": "markdown",
   "metadata": {
    "id": "DSPCom-KmApV"
   },
   "source": [
    "# Convolutional Neural Networks"
   ]
  },
  {
   "cell_type": "markdown",
   "metadata": {
    "id": "cp-AcaPlY2iW"
   },
   "source": [
    "Much of the code in this notebook comes from [tensorflow's GitHub](https://github.com/tensorflow/docs/tree/master/site/en/tutorials)."
   ]
  },
  {
   "cell_type": "markdown",
   "metadata": {
    "id": "NdP9R9dvY2iW"
   },
   "source": [
    "## Learning Goals\n",
    "\n",
    "- describe the types of layers that are distinctive for convolutional nets;\n",
    "- utilize `tensorflow` to build CNNs;\n",
    "- evaluate CNN models."
   ]
  },
  {
   "cell_type": "markdown",
   "metadata": {
    "id": "zJZa3Vz-Y2iW"
   },
   "source": [
    "## What are CNNs?"
   ]
  },
  {
   "cell_type": "markdown",
   "metadata": {
    "id": "fOKmU4MTY2iW"
   },
   "source": [
    "From [Wikipedia](https://en.wikipedia.org/wiki/Convolutional_neural_network):\n",
    "\n",
    "- \"CNNs are regularized versions of multilayer perceptrons. Multilayer perceptrons usually mean fully connected networks, that is, each neuron in one layer is connected to all neurons in the next layer. The \"fully-connectedness\" of these networks makes them prone to overfitting data. Typical ways of regularization include adding some form of magnitude measurement of weights to the loss function. However, CNNs take a different approach towards regularization: they take advantage of the hierarchical pattern in data and assemble more complex patterns using smaller and simpler patterns.\"\n",
    "<br/>\n",
    "<br/>\n",
    "- \"Convolutional networks were inspired by biological processes in that the connectivity pattern between neurons resembles the organization of the animal visual cortex. Individual cortical neurons respond to stimuli only in a restricted region of the visual field known as the receptive field. The receptive fields of different neurons partially overlap such that they cover the entire visual field.\""
   ]
  },
  {
   "cell_type": "markdown",
   "metadata": {
    "id": "_TRXYlwgY2iW"
   },
   "source": [
    "### Convolving and Pooling"
   ]
  },
  {
   "cell_type": "markdown",
   "metadata": {
    "id": "jPetf9nRY2iW"
   },
   "source": [
    "The two distinctive types of layer inside of a typical CNN (and there may be several of each in a single network) are **convolutional** and **pooling** layers. Let's look at each in turn.\n",
    "\n",
    "*Convolutional Layer is like a filter <br> John Newcomb asked \"so is it detecting color gradients ? depth gradients ?\" Norm said \"Yes\" <br> Brooke asked \"How is it possible to multiply a 3x3 matrix by a 2x2? I thought the number of columns in the first matrix had to match the number of rows in the second matrix\" Andrew answered \"the 2x2 filter passes over the 3x3 matrix. It's not quite standard matrix multiplication\"*\n",
    "\n",
    "\n",
    "#### Convolution\n",
    "Convolutional nets employ [convolutions](https://en.wikipedia.org/wiki/Convolution), which are a certain kind of transformation. In the context of neural networks processing images, this can be thought of as sliding a filter (of weights) over the image matrix to produce a new matrix of values. (We'll detail the calculation below.) The relative smallness of the filter means both that there will be relatively few parameters to learn and that the values representing certain areas of the image will be affected only by the values of *nearby areas*. This helps the network in **feature detection**. Let's check out some visualizations [here](https://www.freecodecamp.org/news/an-intuitive-guide-to-convolutional-neural-networks-260c2de0a050/).\n",
    "\n",
    "Utkarsh Sinha shows us some examples of different kinds of filters [here](http://aishack.in/tutorials/convolutions/).\n",
    "\n",
    "Suppose we have a 3x3 image and a 2x2 filter. Then the calculation goes as follows:\n",
    "\n",
    "$\\begin{bmatrix}\n",
    "a & b & c \\\\\n",
    "d & e & g \\\\\n",
    "h & j & k\n",
    "\\end{bmatrix} *\n",
    "\\begin{bmatrix}\n",
    "f_1 & f_2 \\\\\n",
    "f_3 & f_4\n",
    "\\end{bmatrix} =\n",
    "\\begin{bmatrix}\n",
    "f_1a + f_2b + f_3d + f_4e & f_1b + f_2c + f_3e + f_4g \\\\\n",
    "f_1d + f_2e + f_3h + f_4j & f_1e + f_2g + f_3j + f_4k\n",
    "\\end{bmatrix}$.\n",
    "\n",
    "*Filter matrix is like the weights and biases for a dense NN. It starts with random values for f1,f2,f3,and f4*\n",
    "\n",
    "In words: Line up the filter with the image, multiply all the corresponding pairs and then add up those products. Repeat for all positions of the filter as allowed by [the stride and the padding](https://adeshpande3.github.io/A-Beginner%27s-Guide-To-Understanding-Convolutional-Neural-Networks-Part-2/). The relative position of the filter to the image will tell you which entry in the resultant matrix you're filling in.\n",
    "\n",
    "*Stride is how big each step your filter moves throughout the image <br> Padding is making the image bigger by adding a 'border' in order to get a good representation of the image edges*\n",
    "\n",
    "##### Exercise\n",
    "Let's try an example of horizontal edge detection. One good filter for that might look like:\n",
    "\n",
    "$\\begin{bmatrix}\n",
    "10 & 10 & 10 \\\\\n",
    "0 & 0 & 0 \\\\\n",
    "-10 & -10 & -10\n",
    "\\end{bmatrix}$\n",
    "\n",
    "Suppose we apply this filter to (i.e. *convolve*) an image with a clear horizontal edge, such as this one:\n",
    "\n",
    "$\\begin{bmatrix}\n",
    "200 & 200 & 200 & 200 & 200 \\\\\n",
    "200 & 200 & 200 & 200 & 200 \\\\\n",
    "200 & 200 & 200 & 200 & 200 \\\\\n",
    "0 & 0 & 0 & 0 & 0 \\\\\n",
    "0 & 0 & 0 & 0 & 0 \\\\\n",
    "0 & 0 & 0 & 0 & 0\n",
    "\\end{bmatrix}$\n",
    "\n",
    "<br/>\n",
    "<br/>\n",
    "<details><summary>\n",
    "    Answer here\n",
    "    </summary>\n",
    "    <br/>\n",
    "    $\\begin{bmatrix}\n",
    "    0 & 0 & 0 \\\\\n",
    "    6000 & 6000 & 6000 \\\\\n",
    "    6000 & 6000 & 6000 \\\\\n",
    "    0 & 0 & 0\n",
    "    \\end{bmatrix}$\n",
    "    Notice how the edge is now \"highlighted\"!\n",
    "    </details>\n",
    "\n",
    "[Here](https://towardsdatascience.com/intuitively-understanding-convolutions-for-deep-learning-1f6f42faee1) is another good resource.\n",
    "\n",
    "#### Pooling\n",
    "What is pooling? The main goal in inserting a pooling layer is to reduce dimensionality, which helps to reduce both network computation and model overfitting. This is generally a matter of reducing a matrix or tensor of values to  some smaller size, and the most common way of doing this is by partitioning the large matrix into $n$ x $n$ blocks and then replacing each with the largest value in the block. Hence we speak of \"MaxPooling\".\n",
    "\n",
    "Let's check out [this page](https://leonardoaraujosantos.gitbook.io/artificial-inteligence/machine_learning/deep_learning/pooling_layer) for some visuals."
   ]
  },
  {
   "cell_type": "markdown",
   "metadata": {
    "id": "COAMdpv0Y2iX"
   },
   "source": [
    "## From the TensorFlow Authors"
   ]
  },
  {
   "cell_type": "markdown",
   "metadata": {
    "id": "qLGkt5qiyz4E"
   },
   "source": [
    "This tutorial demonstrates training a simple [Convolutional Neural Network](https://developers.google.com/machine-learning/glossary/#convolutional_neural_network) (CNN) to classify MNIST digits. This simple network will achieve over 99% accuracy on the MNIST test set. Because this tutorial uses the [Keras Sequential API](https://www.tensorflow.org/guide/keras), creating and training our model will take just a few lines of code.\n",
    "\n",
    "Note: CNNs train faster with a GPU. If you are running this notebook with Colab, you can enable the free GPU via * Edit -> Notebook settings -> Hardware accelerator -> GPU*."
   ]
  },
  {
   "cell_type": "markdown",
   "metadata": {
    "id": "m7KBpffWzlxH"
   },
   "source": [
    "### Import TensorFlow"
   ]
  },
  {
   "cell_type": "code",
   "execution_count": null,
   "metadata": {
    "id": "QStyug90Y2iY"
   },
   "outputs": [],
   "source": [
    "!pip install tensorflow"
   ]
  },
  {
   "cell_type": "code",
   "execution_count": null,
   "metadata": {
    "id": "iAve6DCL4JH4"
   },
   "outputs": [],
   "source": [
    "import tensorflow as tf\n",
    "from matplotlib import pyplot as plt\n",
    "from tensorflow.keras import datasets, layers, models"
   ]
  },
  {
   "cell_type": "markdown",
   "metadata": {
    "id": "jRFxccghyMVo"
   },
   "source": [
    "### Download and prepare the MNIST dataset"
   ]
  },
  {
   "cell_type": "code",
   "execution_count": null,
   "metadata": {
    "id": "JWoEqyMuXFF4"
   },
   "outputs": [],
   "source": [
    "(train_images, train_labels), (test_images, test_labels) = datasets.mnist.load_data()"
   ]
  },
  {
   "cell_type": "code",
   "execution_count": null,
   "metadata": {
    "id": "w0exPwheY2iY"
   },
   "outputs": [],
   "source": [
    "train_images.shape"
   ]
  },
  {
   "cell_type": "code",
   "execution_count": null,
   "metadata": {
    "id": "F75lK0RbhuHY"
   },
   "outputs": [],
   "source": [
    "test_images.shape"
   ]
  },
  {
   "cell_type": "markdown",
   "metadata": {
    "id": "x03LRoQOhyLc"
   },
   "source": [
    "*Assume it's gray scale image because it's a 2 dimensional image*"
   ]
  },
  {
   "cell_type": "code",
   "execution_count": null,
   "metadata": {
    "id": "C3uqITpvY2iY"
   },
   "outputs": [],
   "source": [
    "train_images = train_images.reshape((60000, 28, 28, 1))\n",
    "test_images = test_images.reshape((10000, 28, 28, 1))"
   ]
  },
  {
   "cell_type": "code",
   "execution_count": null,
   "metadata": {
    "id": "gkbrtnO0Y2iY"
   },
   "outputs": [],
   "source": [
    "# Normalize pixel values to be between 0 and 1\n",
    "train_images, test_images = train_images / 255, test_images / 255"
   ]
  },
  {
   "cell_type": "markdown",
   "metadata": {
    "id": "l7MB_65DiFte"
   },
   "source": [
    "*Scaling/Normalization is important for image processing<br> Scale each image by the maximum value (i.e. 255)*"
   ]
  },
  {
   "cell_type": "markdown",
   "metadata": {
    "id": "Oewp-wYg31t9"
   },
   "source": [
    "### Create the convolutional base"
   ]
  },
  {
   "cell_type": "markdown",
   "metadata": {
    "id": "3hQvqXpNyN3x"
   },
   "source": [
    "The 6 lines of code below define the convolutional base using a common pattern: a stack of [Conv2D](https://www.tensorflow.org/api_docs/python/tf/keras/layers/Conv2D) and [MaxPooling2D](https://www.tensorflow.org/api_docs/python/tf/keras/layers/MaxPool2D) layers.\n",
    "\n",
    "As input, a CNN takes tensors of shape (image_height, image_width, color_channels), ignoring the batch size. If you are new to color channels, MNIST has one (because the images are grayscale), whereas a color image has three (R,G,B). In this example, we will configure our CNN to process inputs of shape (28, 28, 1), which is the format of MNIST images. We do this by passing the argument `input_shape` to our first layer.\n",
    "\n"
   ]
  },
  {
   "cell_type": "code",
   "execution_count": null,
   "metadata": {
    "id": "L9YmGQBQPrdn"
   },
   "outputs": [],
   "source": [
    "model = models.Sequential()\n",
    "model.add(layers.Conv2D(filters=32, #this is not neurons. We build 32 random filters that are 3x3 in size\n",
    "                        #So it's 9 paragemters plus 1 bias term. So 1 filter will have 10 parameters to train.\n",
    "                        #We are training 32x10=320 paramters from just the first layer\n",
    "                        kernel_size=(3, 3),\n",
    "                        activation='relu',\n",
    "                        input_shape=(28, 28, 1)))\n",
    "model.add(layers.MaxPooling2D(pool_size=(2, 2)))\n",
    "model.add(layers.Conv2D(64, (3, 3), activation='relu')) #64 filters that are 3 by 3 size\n",
    "model.add(layers.MaxPooling2D((2, 2)))\n",
    "model.add(layers.Conv2D(64, (3, 3), activation='relu')) "
   ]
  },
  {
   "cell_type": "markdown",
   "metadata": {
    "id": "lvDVFkg-2DPm"
   },
   "source": [
    "Let display the architecture of our model so far."
   ]
  },
  {
   "cell_type": "code",
   "execution_count": null,
   "metadata": {
    "id": "8-C4XBg4UTJy",
    "scrolled": true
   },
   "outputs": [],
   "source": [
    "model.summary()"
   ]
  },
  {
   "cell_type": "markdown",
   "metadata": {
    "id": "-VP7-D8OY2iZ"
   },
   "source": [
    "The number of parameters depends on the number of input and output channels of the layer in question. For more, see [this post](https://medium.com/@zhang_yang/number-of-parameters-in-dense-and-convolutional-neural-networks-34b54c2ec349) and [this post](https://towardsdatascience.com/understanding-and-calculating-the-number-of-parameters-in-convolution-neural-networks-cnns-fc88790d530d)."
   ]
  },
  {
   "cell_type": "markdown",
   "metadata": {
    "id": "_j-AXYeZ2GO5"
   },
   "source": [
    "Above, you can see that the output of every Conv2D and MaxPooling2D layer is a 3D tensor of shape (height, width, channels). The width and height dimensions tend to shrink as we go deeper in the network. The number of output channels for each Conv2D layer is controlled by the first argument (e.g., 32 or 64). Typically,  as the width and height shrink, we can afford (computationally) to add more output channels in each Conv2D layer."
   ]
  },
  {
   "cell_type": "markdown",
   "metadata": {
    "id": "_v8sVOtG37bT"
   },
   "source": [
    "### Add Dense layers on top\n",
    "To complete our model, we will feed the last output tensor from the convolutional base (of shape (3, 3, 64)) into one or more Dense layers to perform classification. Dense layers take vectors as input (which are 1D), while the current output is a 3D tensor. First, we will flatten (or unroll) the 3D output to 1D,  then add one or more Dense layers on top. MNIST has 10 output classes, so we use a final Dense layer with 10 outputs and a softmax activation."
   ]
  },
  {
   "cell_type": "code",
   "execution_count": null,
   "metadata": {
    "id": "mRs95d6LUVEi"
   },
   "outputs": [],
   "source": [
    "model.add(layers.Flatten())\n",
    "model.add(layers.Dense(64, activation='relu'))\n",
    "model.add(layers.Dense(10, activation='softmax'))"
   ]
  },
  {
   "cell_type": "markdown",
   "metadata": {
    "id": "ipGiQMcR4Gtq"
   },
   "source": [
    " Here's the complete architecture of our model."
   ]
  },
  {
   "cell_type": "code",
   "execution_count": null,
   "metadata": {
    "id": "8Yu_m-TZUWGX"
   },
   "outputs": [],
   "source": [
    "model.summary()"
   ]
  },
  {
   "cell_type": "markdown",
   "metadata": {
    "id": "V9ao5BiRn4yR"
   },
   "source": [
    "*Andrew asked \"where does the 18496 number come from?\"<br>\"I figured it out 64x9x32 + 64\"<br> 64 (neurons) times 9 (filter size) times 32 (number of filters)<br>64 biases*"
   ]
  },
  {
   "cell_type": "markdown",
   "metadata": {
    "id": "xNKXi-Gy3RO-"
   },
   "source": [
    "As you can see, our (3, 3, 64) outputs were flattened into vectors of shape (576) before going through two Dense layers."
   ]
  },
  {
   "cell_type": "markdown",
   "metadata": {
    "id": "P3odqfHP4M67"
   },
   "source": [
    "### Compile and train the model"
   ]
  },
  {
   "cell_type": "code",
   "execution_count": null,
   "metadata": {
    "id": "MdDzI75PUXrG"
   },
   "outputs": [],
   "source": [
    "model.compile(optimizer='adam',\n",
    "              loss='sparse_categorical_crossentropy',\n",
    "              metrics=['accuracy'])"
   ]
  },
  {
   "cell_type": "markdown",
   "metadata": {
    "id": "caism5YnmFMl"
   },
   "source": [
    "*Andrew asked \"so the number of filters (32) is analogous to the number of units or neurons that we've seen before?\" Norm wouldn't consider them as a neuron because neurons have activation functions within <br><br> Andrew stated \"so sample being defined as a group of observations, aka a batch\"*"
   ]
  },
  {
   "cell_type": "code",
   "execution_count": null,
   "metadata": {
    "id": "s2xzG-LIY2ia"
   },
   "outputs": [],
   "source": [
    "model.fit(train_images, train_labels, epochs=10, batch_size=1000)"
   ]
  },
  {
   "cell_type": "markdown",
   "metadata": {
    "id": "jKgyC5K_4O0d"
   },
   "source": [
    "### Evaluate the model"
   ]
  },
  {
   "cell_type": "code",
   "execution_count": null,
   "metadata": {
    "id": "gtyDF0MKUcM7"
   },
   "outputs": [],
   "source": [
    "test_loss, test_acc = model.evaluate(test_images, test_labels)"
   ]
  },
  {
   "cell_type": "code",
   "execution_count": null,
   "metadata": {
    "id": "0LvwaKhtUdOo"
   },
   "outputs": [],
   "source": [
    "print(test_acc)"
   ]
  },
  {
   "cell_type": "code",
   "execution_count": null,
   "metadata": {
    "id": "-YWhUcb2m617"
   },
   "outputs": [],
   "source": [
    "import numpy as np\n",
    "y_hat_test = np.argmax(model.predict(test_images), axis = -1)"
   ]
  },
  {
   "cell_type": "code",
   "execution_count": null,
   "metadata": {
    "id": "h0ZcWm2NnCon"
   },
   "outputs": [],
   "source": [
    "from sklearn.metrics import confusion_matrix, accuracy_score\n",
    "confusion_matrix(test_labels, y_hat_test)"
   ]
  },
  {
   "cell_type": "code",
   "execution_count": null,
   "metadata": {
    "id": "9_zv4Z6SnUxr"
   },
   "outputs": [],
   "source": [
    "accuracy_score(test_labels, y_hat_test)"
   ]
  },
  {
   "cell_type": "code",
   "execution_count": null,
   "metadata": {
    "id": "_us9nen-nY51"
   },
   "outputs": [],
   "source": [
    "len(test_labels)"
   ]
  },
  {
   "cell_type": "markdown",
   "metadata": {
    "id": "8cfJ8AR03gT5"
   },
   "source": [
    "As you can see, our simple CNN has achieved a really high test accuracy. Not bad for a few lines of code!"
   ]
  },
  {
   "cell_type": "markdown",
   "metadata": {
    "id": "qBJvcHLvY2ia"
   },
   "source": [
    "## Checking a Particular Image"
   ]
  },
  {
   "cell_type": "code",
   "execution_count": null,
   "metadata": {
    "id": "vwHSb9hYY2ia"
   },
   "outputs": [],
   "source": [
    "model.predict(test_images[0].reshape(1, 28, 28, 1))"
   ]
  },
  {
   "cell_type": "code",
   "execution_count": null,
   "metadata": {
    "id": "S3WfEqRnY2ia"
   },
   "outputs": [],
   "source": [
    "plt.imshow(test_images[0].reshape(28, 28));"
   ]
  },
  {
   "cell_type": "code",
   "execution_count": null,
   "metadata": {
    "id": "NZDNDhrbY2ia"
   },
   "outputs": [],
   "source": []
  }
 ],
 "metadata": {
  "accelerator": "GPU",
  "colab": {
   "collapsed_sections": [],
   "name": "intro_to_cnns.ipynb",
   "private_outputs": true,
   "provenance": []
  },
  "kernelspec": {
   "display_name": "Python 3",
   "language": "python",
   "name": "python3"
  },
  "language_info": {
   "codemirror_mode": {
    "name": "ipython",
    "version": 3
   },
   "file_extension": ".py",
   "mimetype": "text/x-python",
   "name": "python",
   "nbconvert_exporter": "python",
   "pygments_lexer": "ipython3",
   "version": "3.8.5"
  }
 },
 "nbformat": 4,
 "nbformat_minor": 1
}
